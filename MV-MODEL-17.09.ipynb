{
 "cells": [
  {
   "cell_type": "markdown",
   "metadata": {},
   "source": [
    " **Kurze Erklärung zum Programm**\n",
    "\n",
    "# Markowitz (Mean-Variance) Model\n",
    "\n",
    "--- \n",
    "\n",
    "Hier stelle ich kurz das Grundliegende Model der Portfoliotheorie vor: Das Markowitz Model!\n",
    "\n",
    "\n",
    "Wenn die Schwankung der täglichen Renditen verschiedener Aktien ungefähr Normal verteilt ist, kann man die Gewichtung so kombinieren das die Schwankung des Portfolios kleiner ist als die Schwakung der einzelnen Titel (\"Minimumvarianzprinzip\")\n",
    "\n",
    "---\n",
    "\n",
    "\n"
   ]
  },
  {
   "cell_type": "code",
   "execution_count": 1,
   "metadata": {},
   "outputs": [],
   "source": [
    "# Hier im ersten Block werden Libraries für die Berechnung des Portfolios importiert \n",
    "\n",
    "import decimal\n",
    "import pandas as pd\n",
    "import numpy as np\n",
    "import cvxopt as opt\n",
    "from cvxopt import blas, solvers\n",
    "import quandl\n",
    "import matplotlib.pyplot as plt\n",
    "# API configuration here\n",
    "quandl.ApiConfig.api_key = \"VAA5bZ67DimoDkvMStuG\"\n",
    "solvers.options['show_progress'] = False\n",
    "import matplotlib.pyplot as plt"
   ]
  },
  {
   "cell_type": "code",
   "execution_count": 2,
   "metadata": {},
   "outputs": [],
   "source": [
    "# Hier werden die Aktien oder Anleihen in einer Liste geladen\n",
    "# stocklist und bond list muss klar unterschieden werden\n",
    "\n",
    "stocklist = ['AMD', 'NVDA', 'OKE', 'CHK', 'NEM', 'AMAT', 'ALB', 'FCX', 'HPE', 'IDXX', 'WMB']\n",
    "\n",
    "'''\n",
    "stocklist = ['AMD', 'NVDA', 'OKE', 'CHK', 'NEM', 'AMAT', 'ALB', 'FCX', 'HPE', 'IDXX', 'WMB',\n",
    "        'DHR', 'WYNN', 'PWR', 'ALGN', 'MU', 'CHTR', 'AVGO', 'CMA', 'NAVI', 'NUE', 'DLR', 'CNP', 'SYMC', 'RF',\n",
    "        'MCHP', 'SYY', 'LRCX', 'FMC', 'ROST', 'TWX', 'MLM', 'STX', 'UNH', 'VTR', 'DRE', 'DGX', 'PLD', 'HP',\n",
    "        'UAL', 'GLW', 'KEY', 'BBY', 'DE', 'CMI', 'WM', 'MGM', 'SNI', 'CFG', 'ZION', 'HAL', 'RSG', 'DRI', 'PKG']\n",
    "\n",
    "'''\n",
    "\n",
    "# small list of Bond Etfs\n",
    "bondlist = ['AGG', 'BND', 'LQD']\n",
    "\n",
    "\n",
    "\n"
   ]
  },
  {
   "cell_type": "code",
   "execution_count": 3,
   "metadata": {},
   "outputs": [],
   "source": [
    "# Hier werden die Preise von der Quandl Datenbank gezogen\n",
    "\n",
    "data = quandl.get_table('WIKI/PRICES', ticker = stocklist, \n",
    "                        qopts = { 'columns': ['ticker', 'date', 'adj_close'] },\n",
    "                        date = { 'gte': '2016-12-31', 'lte': '2017-12-31' }, \n",
    "                        paginate=True)\n",
    "\n",
    "new = data.set_index('date')\n",
    "\n",
    "# use pandas pivot function to sort adj_close by tickers\n",
    "clean_data = new.pivot(columns='ticker')\n",
    "\n",
    "# check the head of the output\n",
    "#clean_data.head()\n"
   ]
  },
  {
   "cell_type": "markdown",
   "metadata": {},
   "source": [
    "\n",
    "## In der nächsten Zeile können Sie die Modellparameter bestimmen \n",
    "\n",
    "---\n",
    "\n",
    "**Wichtig ist das man das Maixmalgewicht nicht unterschreitet, da sonst die Gewichte in keinem Fall auf 100% kommen können und das das Programm eine Fehlermeldung wiedergibt**\n",
    "\n",
    "Generell sollte das minimale und maximale Gewicht pro Wertpapier zwischen -1.0 und 1.0 liegen (-100% und 100%) \n",
    "\n",
    "---\n",
    "\n"
   ]
  },
  {
   "cell_type": "code",
   "execution_count": 4,
   "metadata": {},
   "outputs": [
    {
     "name": "stdout",
     "output_type": "stream",
     "text": [
      "Achtung! das Maximale Gewicht (Maximal_gewicht) darf  9.091 % nicht unterschreiten!\n"
     ]
    }
   ],
   "source": [
    "# hier kann man die Modelparameter anpassen:\n",
    "\n",
    "#Gewichtung im Model\n",
    "Minimal_gewicht = -0.0\n",
    "Maximal_gewicht = 2.0\n",
    "\n",
    "#Scale of Optimization\n",
    "Scale = 100 #usually set to 100\n",
    "\n",
    "Riskaversion = 99 #have to figure out how to make it proportional to the Scale \n",
    "\n",
    "#historical data from beginning to end\n",
    "\n",
    "#data_start = \n",
    "#data_end = \n",
    "\n",
    "\n",
    "x = decimal.Decimal(100/len(stocklist))\n",
    "print(\"Achtung! das Maximale Gewicht (Maximal_gewicht) darf \", round(x,3) , \"% nicht unterschreiten!\")\n"
   ]
  },
  {
   "cell_type": "code",
   "execution_count": 5,
   "metadata": {},
   "outputs": [
    {
     "name": "stdout",
     "output_type": "stream",
     "text": [
      "(249, 11)\n"
     ]
    }
   ],
   "source": [
    "# here I will transform the data to be suitable for the model used\n",
    "\n",
    "returnss = (clean_data.pct_change().dropna())\n",
    "number = len(stocklist)\n",
    "\n",
    "\n",
    "#clean_data.plot(figsize=(15, 10))\n",
    "#print(returns.as_matrix)\n",
    "returns = returnss.values #as_matrix()\n",
    "print((returns.shape))\n",
    "\n"
   ]
  },
  {
   "cell_type": "code",
   "execution_count": 6,
   "metadata": {},
   "outputs": [],
   "source": [
    "def optimal_portfolio(returns):\n",
    "    n = len(returns)\n",
    "    #returns = np.diff(returns)\n",
    "    returns = np.asmatrix(returns)\n",
    "    \n",
    "    G = Scale\n",
    "\n",
    "    #G = 100\n",
    "    mus = [10**(5.0 * t/G - 1.0) for t in range(G)]\n",
    "\n",
    "    # Convert to cvxopt matrices\n",
    "    S = opt.matrix(np.cov(returns)) #np.diff(returns1)\n",
    "    pbar = opt.matrix(np.mean(returns, axis=1))\n",
    "    \n",
    "    \n",
    "    # new constraint matrices for negative weights and weight adjustment\n",
    "    dank = -np.array(np.eye(n))\n",
    "    dabbie = np.array(np.eye(n))\n",
    "    ye = np.vstack((dank, dabbie))\n",
    "    deed = np.ones((2*n ,1))\n",
    "    G = opt.matrix(ye, tc='d')\n",
    "    #h = opt.matrix(deed, tc='d')\n",
    "    #G = opt.matrix(np.r_[-np.eye(n), np.eye(n)], tc='d')\n",
    "    #h = opt.matrix(np.r_[np.zeros((n,1)) +1 , np.zeros((n,1)) + 1], tc='d')\n",
    "    \n",
    "    d = -np.ones((n,1))*Minimal_gewicht #0.02\n",
    "    e = np.ones((n,1))*Maximal_gewicht #0.050\n",
    "    dodo = np.vstack((d, e))\n",
    "    h = opt.matrix(dodo, tc='d')\n",
    "\n",
    "        \n",
    "    # Create constraint matrices do not uncomment G & H\n",
    "    #G = -opt.matrix(np.eye(n))   # negative n x n identity matrix\n",
    "    #h = opt.matrix(0.0, (n ,1))\n",
    "    A = opt.matrix(1.0, (1, n))\n",
    "    b = opt.matrix(1.0)\n",
    "\n",
    "    # Calculate efficient frontier weights\n",
    "    portfolios = [solvers.qp(mu*S, -pbar, G, h, A, b)['x'] \n",
    "                 for mu in mus]\n",
    "    t=portfolios\n",
    "\n",
    "    ## CALCULATE RISKS AND RETURNS FOR FRONTIER  (will add back later)\n",
    "    returns = [blas.dot(pbar, x) for x in portfolios]\n",
    "    risks = [np.sqrt(blas.dot(x, S*x)) for x in portfolios]\n",
    "    \n",
    "    \n",
    "    ## CALCULATE THE 2ND DEGREE POLYNOMIAL OF THE FRONTIER CURVE and Maximum Return Portfolio\n",
    "    m1 = np.polyfit(returns, risks, 2)\n",
    "    x1 = np.sqrt((m1[2])/ m1[0]) ##change for desired portfolio this solves for horizontal tangent portfolio (not now)\n",
    "    wt = solvers.qp(opt.matrix(x1 * S), -pbar, G, h, A, b)['x']\n",
    "    \n",
    "    \n",
    "    ## approximates the maximum Sharpe portfolio (also called tangent portfolio)\n",
    "    #slope = (returns-(rf/252))/risks\n",
    "    #opt_s_ind = slope.argmax()\n",
    "    \n",
    "    return np.asarray(wt), returns, risks, t\n",
    "\n",
    "results,_,risk,tp = optimal_portfolio(returns.T) #np.diff(returns1) returns3\n",
    "Riskaversion =99\n",
    "# index portfolios on the efficient frontier here\n",
    "test1=np.array(opt.matrix(tp))\n",
    "sublist=[test1[n:n+number] for n in range(0,len(test1),number)]\n",
    "real=sublist[Riskaversion]\n"
   ]
  },
  {
   "cell_type": "code",
   "execution_count": 7,
   "metadata": {},
   "outputs": [],
   "source": [
    "#show portfolio weights here, some data engineering  \n",
    "\n",
    "l = np.array(stocklist)\n",
    "dic = {}\n",
    "for i in range(len(stocklist)):\n",
    "    dic[stocklist[i]] = real[i]\n",
    "\n",
    "s = pd.Series(dic, index=stocklist)\n",
    "df = s[abs(s) > 0.0005]\n",
    "df=df.astype(float)\n"
   ]
  },
  {
   "cell_type": "code",
   "execution_count": 8,
   "metadata": {},
   "outputs": [
    {
     "name": "stdout",
     "output_type": "stream",
     "text": [
      "AMD     0.113490\n",
      "NVDA    0.120503\n",
      "AMAT    0.067084\n",
      "ALB     0.148188\n",
      "FCX     0.231724\n",
      "HPE     0.009701\n",
      "IDXX    0.125368\n",
      "WMB     0.183941\n",
      "dtype: float64\n"
     ]
    },
    {
     "data": {
      "image/png": "[encoded data removed]",
      "text/plain": [
       "<matplotlib.figure.Figure at 0x1146ce080>"
      ]
     },
     "metadata": {},
     "output_type": "display_data"
    }
   ],
   "source": [
    "abs(df).plot.pie(y=None) \n",
    "plt.axis('equal')\n",
    "print(df)\n",
    "\n",
    "fig = plt.gcf()\n",
    "fig.set_size_inches(8,8)\n"
   ]
  },
  {
   "cell_type": "code",
   "execution_count": 9,
   "metadata": {},
   "outputs": [
    {
     "data": {
      "text/plain": [
       "[<matplotlib.lines.Line2D at 0x1196bb9e8>]"
      ]
     },
     "execution_count": 9,
     "metadata": {},
     "output_type": "execute_result"
    },
    {
     "data": {
      "image/png": "[encoded data removed]",
      "text/plain": [
       "<matplotlib.figure.Figure at 0x1146e96d8>"
      ]
     },
     "metadata": {},
     "output_type": "display_data"
    }
   ],
   "source": [
    "# risiko zu rendite \n",
    "t = Scale\n",
    "scale = [t for t in range(t)] \n",
    "sclae = scale.reverse()\n",
    "rendite = np.array(_)*100\n",
    "\n",
    "plt.plot(scale,rendite)\n",
    "#print(scale)"
   ]
  },
  {
   "cell_type": "code",
   "execution_count": 10,
   "metadata": {},
   "outputs": [
    {
     "data": {
      "text/plain": [
       "[<matplotlib.lines.Line2D at 0x11972be10>]"
      ]
     },
     "execution_count": 10,
     "metadata": {},
     "output_type": "execute_result"
    },
    {
     "data": {
      "image/png": "[encoded data removed]",
      "text/plain": [
       "<matplotlib.figure.Figure at 0x1146e9ba8>"
      ]
     },
     "metadata": {},
     "output_type": "display_data"
    }
   ],
   "source": [
    "# relationship between number of assets in a portfolio (weighted more than 0.001) and return\n",
    "\n",
    "def counting():\n",
    "    count = []\n",
    "    for lists in sublist:\n",
    "        newlist = []\n",
    "        for i in lists:\n",
    "            if (i >= 0.02):\n",
    "                newlist.append(i)\n",
    "        count.append(len(newlist))\n",
    "    return count\n",
    "q = counting()\n",
    "\n",
    "\n",
    "\n",
    "plt.plot(q, rendite)"
   ]
  },
  {
   "cell_type": "code",
   "execution_count": 11,
   "metadata": {},
   "outputs": [
    {
     "data": {
      "text/plain": [
       "[<matplotlib.lines.Line2D at 0x121442898>]"
      ]
     },
     "execution_count": 11,
     "metadata": {},
     "output_type": "execute_result"
    },
    {
     "data": {
      "image/png": "[encoded data removed]",
      "text/plain": [
       "<matplotlib.figure.Figure at 0x114722d68>"
      ]
     },
     "metadata": {},
     "output_type": "display_data"
    }
   ],
   "source": [
    "#classic markowitz bullet\n",
    "plt.plot(risk, rendite)"
   ]
  },
  {
   "cell_type": "code",
   "execution_count": 12,
   "metadata": {},
   "outputs": [
    {
     "data": {
      "text/plain": [
       "[<matplotlib.lines.Line2D at 0x12155abe0>]"
      ]
     },
     "execution_count": 12,
     "metadata": {},
     "output_type": "execute_result"
    },
    {
     "data": {
      "image/png": "[encoded data removed]",
      "text/plain": [
       "<matplotlib.figure.Figure at 0x11975c160>"
      ]
     },
     "metadata": {},
     "output_type": "display_data"
    }
   ],
   "source": [
    "#risk and number of stocks in a portfolio\n",
    "plt.plot(q, risk)"
   ]
  },
  {
   "cell_type": "code",
   "execution_count": 13,
   "metadata": {},
   "outputs": [
    {
     "name": "stdout",
     "output_type": "stream",
     "text": [
      "[[0.00066388]]\n"
     ]
    }
   ],
   "source": [
    "# zu erwartende Tagesrendite (basierend auf historischen renditen) des optimalen portfolios \n",
    "\n",
    "exp_returns = returnss.mean()\n",
    "exp_returns = exp_returns.values\n",
    "exp_returns = exp_returns.reshape(len(exp_returns),1)\n",
    "\n",
    "expected_portfolio_return = np.dot(real.T, exp_returns)\n",
    "\n",
    "print(expected_portfolio_return)\n"
   ]
  },
  {
   "cell_type": "code",
   "execution_count": 17,
   "metadata": {},
   "outputs": [
    {
     "name": "stdout",
     "output_type": "stream",
     "text": [
      "0.0831957592381703\n"
     ]
    }
   ],
   "source": [
    "yet = 2* rendite*0.3 + rendite*(-0.1)\n",
    "print(yet.mean())\n",
    "\n",
    "rf = 0.01"
   ]
  },
  {
   "cell_type": "code",
   "execution_count": 18,
   "metadata": {},
   "outputs": [
    {
     "name": "stdout",
     "output_type": "stream",
     "text": [
      "[[0.2647]\n",
      " [0.2386]\n",
      " [0.    ]\n",
      " [0.    ]\n",
      " [0.0771]\n",
      " [0.    ]\n",
      " [0.1772]\n",
      " [0.0874]\n",
      " [0.1549]\n",
      " [0.    ]\n",
      " [0.    ]]\n"
     ]
    }
   ],
   "source": [
    "def optimal_portfolio(returns):\n",
    "    n = len(returns)\n",
    "    #returns = np.diff(returns)\n",
    "    returns = np.asmatrix(returns)\n",
    "    \n",
    "    G = Scale\n",
    "\n",
    "    G = 100\n",
    "    mus = [10**(5.0 * t/G - 1.0) for t in range(G)]\n",
    "    \n",
    "    # Convert to cvxopt matrices\n",
    "    S = opt.matrix(np.cov(returns)) #np.diff(returns1)\n",
    "    pbar = opt.matrix(np.mean(returns, axis=1))\n",
    "    \n",
    "    # new constraint matrices for negative weights and weight adjustment\n",
    "    dank = -np.array(np.eye(n))\n",
    "    dabbie = np.array(np.eye(n))\n",
    "    ye = np.vstack((dank, dabbie))\n",
    "    deed = np.ones((2*n ,1))\n",
    "    G = opt.matrix(ye, tc='d')\n",
    "    #h = opt.matrix(deed, tc='d')\n",
    "    #G = opt.matrix(np.r_[-np.eye(n), np.eye(n)], tc='d')\n",
    "    #h = opt.matrix(np.r_[np.zeros((n,1)) +1 , np.zeros((n,1)) + 1], tc='d')\n",
    "    \n",
    "    d = -np.ones((n,1))*Minimal_gewicht #0.02\n",
    "    e = np.ones((n,1))*Maximal_gewicht #0.050\n",
    "    dodo = np.vstack((d, e))\n",
    "    h = opt.matrix(dodo, tc='d')\n",
    "\n",
    "        \n",
    "    # Create constraint matrices do not uncomment G & H\n",
    "    #G = -opt.matrix(np.eye(n))   # negative n x n identity matrix\n",
    "    #h = opt.matrix(0.0, (n ,1))\n",
    "    A = opt.matrix(1.0, (1, n))\n",
    "    b = opt.matrix(1.0)\n",
    "\n",
    "    # Calculate efficient frontier weights\n",
    "    portfolios = [solvers.qp(mu*S, -pbar, G, h, A, b)['x'] \n",
    "                 for mu in mus]\n",
    "    t=portfolios\n",
    "\n",
    "    ## CALCULATE RISKS AND RETURNS FOR FRONTIER  (will add back later)\n",
    "    returns = np.asarray([blas.dot(pbar, x) for x in portfolios])\n",
    "    risks = np.asarray([np.sqrt(blas.dot(x, S*x)) for x in portfolios])\n",
    "    \n",
    "    \n",
    "    ## CALCULATE THE 2ND DEGREE POLYNOMIAL OF THE FRONTIER CURVE\n",
    "    #m1 = np.polyfit(returns, risks, 2)\n",
    "    #x1 = np.sqrt((m1[2])/ m1[0]) ##change for desired portfolio this solves for horizontal tangent portfolio (not now)\n",
    "\n",
    "    # CALCULATE THE OPTIMAL PORTFOLIO\n",
    "    \n",
    "    slope = (returns-(rf/252))/risks\n",
    "    opt_s_ind = slope.argmax()\n",
    "    return np.asarray(portfolios[opt_s_ind]), np.asarray(returns), np.asarray(risks), portfolios, dodo, G \n",
    "    \n",
    "    \n",
    "    \n",
    "    #wt = solvers.qp(opt.matrix(x1 * S), -pbar, G, h, A, b)['x']\n",
    "    #return np.asarray(wt), returns, risks, t, dodo, G\n",
    "\n",
    "results,_,risk,tp, dodo, G = optimal_portfolio(returns.T) #np.diff(returns1) returns3\n",
    "Riskaversion =99\n",
    "# index portfolios on the efficient frontier here\n",
    "test1=np.array(opt.matrix(tp))\n",
    "sublist=[test1[n:n+number] for n in range(0,len(test1),number)]\n",
    "real=sublist[Riskaversion]\n",
    "\n",
    "#print(real.round(5))\n",
    "\n",
    "#print(sum(abs(real)))\n",
    "G = np.array(G)\n",
    "print(results.round(4))\n"
   ]
  },
  {
   "cell_type": "code",
   "execution_count": 19,
   "metadata": {},
   "outputs": [
    {
     "name": "stdout",
     "output_type": "stream",
     "text": [
      "[1.]\n"
     ]
    }
   ],
   "source": [
    "print(sum(results))"
   ]
  },
  {
   "cell_type": "code",
   "execution_count": null,
   "metadata": {},
   "outputs": [],
   "source": []
  },
  {
   "cell_type": "code",
   "execution_count": null,
   "metadata": {},
   "outputs": [],
   "source": []
  },
  {
   "cell_type": "code",
   "execution_count": null,
   "metadata": {},
   "outputs": [],
   "source": []
  }
 ],
 "metadata": {
  "kernelspec": {
   "display_name": "Python 3",
   "language": "python",
   "name": "python3"
  },
  "language_info": {
   "codemirror_mode": {
    "name": "ipython",
    "version": 3
   },
   "file_extension": ".py",
   "mimetype": "text/x-python",
   "name": "python",
   "nbconvert_exporter": "python",
   "pygments_lexer": "ipython3",
   "version": "3.6.4"
  }
 },
 "nbformat": 4,
 "nbformat_minor": 2
}

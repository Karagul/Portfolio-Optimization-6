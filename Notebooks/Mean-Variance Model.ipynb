{
 "cells": [
  {
   "cell_type": "markdown",
   "metadata": {},
   "source": [
    " **Kurze Erklärung zum Programm**\n",
    "\n",
    "# Markowitz (Mean-Variance) Model\n",
    "\n",
    "--- \n",
    "\n",
    "Hier stelle ich kurz das Grundliegende Model der Portfoliotheorie vor: Das Markowitz Model\n",
    "\n",
    "\n",
    "Wenn die Schwankung der täglichen Renditen verschiedener Aktien ungefähr Normal verteilt ist, kann man die Gewichtung so kombinieren das die Schwankung des Portfolios kleiner ist als die Schwakung der einzelnen Titel (\"Minimumvarianzprinzip\")\n",
    "\n",
    "---\n",
    "\n",
    "\n"
   ]
  },
  {
   "cell_type": "code",
   "execution_count": 15,
   "metadata": {},
   "outputs": [],
   "source": [
    "# Hier im ersten Block werden Libraries für die Berechnung des Portfolios importiert \n",
    "\n",
    "import decimal\n",
    "import pandas as pd\n",
    "import numpy as np\n",
    "import cvxopt as opt\n",
    "from cvxopt import blas, solvers\n",
    "import quandl\n",
    "import matplotlib.pyplot as plt\n",
    "# API configuration here\n",
    "quandl.ApiConfig.api_key = \"VAA5bZ67DimoDkvMStuG\"\n",
    "solvers.options['show_progress'] = False\n",
    "import matplotlib.pyplot as plt"
   ]
  },
  {
   "cell_type": "code",
   "execution_count": 16,
   "metadata": {},
   "outputs": [],
   "source": [
    "# Hier werden die Aktien oder Anleihen in einer Liste geladen\n",
    "# stocks1 und stocks2 list muss klar unterschieden werden\n",
    "\n",
    "stocks1 = ['AMD', 'NVDA', 'OKE', 'CHK', 'NEM', 'AMAT', 'ALB', 'FCX', 'HPE', 'IDXX', 'WMB']\n",
    "\n",
    "'''\n",
    "stocks1 = ['AMD', 'NVDA', 'OKE', 'CHK', 'NEM', 'AMAT', 'ALB', 'FCX', 'HPE', 'IDXX', 'WMB',\n",
    "        'DHR', 'WYNN', 'PWR', 'ALGN', 'MU', 'CHTR', 'AVGO', 'CMA', 'NAVI', 'NUE', 'DLR', 'CNP', 'SYMC', 'RF',\n",
    "        'MCHP', 'SYY', 'LRCX', 'FMC', 'ROST', 'TWX', 'MLM', 'STX', 'UNH', 'VTR', 'DRE', 'DGX', 'PLD', 'HP',\n",
    "        'UAL', 'GLW', 'KEY', 'BBY', 'DE', 'CMI', 'WM', 'MGM', 'SNI', 'CFG', 'ZION', 'HAL', 'RSG', 'DRI', 'PKG']\n",
    "'''\n",
    "\n",
    "# A list of riskier stocks, (could be any other asset) to restrict the weights specifically\n",
    "\n",
    "stocks2 = ['TIVO', 'JCP', 'F'] # ['AAPL']\n"
   ]
  },
  {
   "cell_type": "code",
   "execution_count": 17,
   "metadata": {},
   "outputs": [
    {
     "name": "stdout",
     "output_type": "stream",
     "text": [
      "             adj_close                                                         \\\n",
      "ticker             ALB       AMAT      AMD   CHK          F    FCX        HPE   \n",
      "date                                                                            \n",
      "2017-01-03   87.310827  31.708608  11.4300  6.92  11.923135  13.78  22.930139   \n",
      "2017-01-04   89.938580  32.006435  11.4300  7.00  12.472414  14.83  23.177231   \n",
      "2017-01-05   89.631183  31.867449  11.2400  7.18  12.093601  14.62  23.285951   \n",
      "2017-01-06   90.047657  31.807884  11.3200  7.01  12.084131  14.90  22.831302   \n",
      "2017-01-09   89.720427  32.542523  11.4900  6.87  11.961016  14.68  22.297583   \n",
      "2017-01-10   89.125464  32.889987  11.4400  6.92  12.169364  15.55  22.683047   \n",
      "2017-01-11   92.516753  33.227524  11.2000  6.92  11.998898  15.87  22.495257   \n",
      "2017-01-12   92.962976  33.068683  10.7600  6.93  11.923135  15.27  22.485373   \n",
      "2017-01-13   93.210877  33.545206  10.5800  6.92  11.961016  15.19  22.673163   \n",
      "2017-01-17   93.557939  33.058756   9.8200  7.01  11.942076  15.06  22.426071   \n",
      "2017-01-18   91.822630  33.445930   9.8800  6.98  11.942076  15.24  22.594093   \n",
      "2017-01-19   92.268852  33.505496   9.7700  6.62  11.961322  15.26  22.505140   \n",
      "2017-01-20   92.576250  33.594844   9.7500  6.69  11.893961  15.51  22.613861   \n",
      "2017-01-23   92.913395  33.505496   9.9100  6.68  11.845846  15.72  22.307467   \n",
      "2017-01-24   94.747865  33.783467  10.4400  6.91  12.134535  17.02  22.623745   \n",
      "2017-01-25   93.210877  34.170642  10.3500  7.13  12.307748  16.50  22.712698   \n",
      "2017-01-26   94.678452  33.733829  10.5200  7.12  11.903584  15.84  22.356885   \n",
      "2017-01-27   94.618956  34.786150  10.6700  6.92  12.019059  16.37  22.287699   \n",
      "2017-01-30   93.776092  34.091221  10.6100  6.46  11.903584  16.25  21.892352   \n",
      "2017-01-31   91.862294  34.001873  10.3700  6.45  11.893961  16.65  22.416187   \n",
      "2017-02-01   92.625830  34.776222  12.0600  6.40  11.855469  16.84  22.327234   \n",
      "2017-02-02   92.130027  34.686874  12.2800  6.45  11.816978  16.81  22.426071   \n",
      "2017-02-03   93.478610  35.054194  12.2400  6.57  12.086420  15.83  23.226649   \n",
      "2017-02-06   93.498442  34.925136  13.6300  6.38  12.047928  16.00  23.266184   \n",
      "2017-02-07   92.020951  35.282528  13.2900  6.17  11.874715  15.52  23.414439   \n",
      "2017-02-08   93.557939  35.342093  13.5600  6.12  11.913207  15.53  23.355137   \n",
      "2017-02-09   93.121632  35.153470  13.4200  6.31  11.913207  15.39  23.799903   \n",
      "2017-02-10   92.913395  35.064122  13.5800  6.38  12.038305  15.80  23.710949   \n",
      "2017-02-13   93.954581  35.203107  13.4900  6.33  12.086420  15.96  23.839437   \n",
      "2017-02-14   90.424467  34.974774  13.2600  6.44  12.173026  15.90  23.859205   \n",
      "...                ...        ...      ...   ...        ...    ...        ...   \n",
      "2017-11-16  135.330000  57.840000  11.2500  3.85  12.040000  13.62  13.270000   \n",
      "2017-11-17  136.210000  56.490000  11.3800  4.02  12.010000  13.86  13.680000   \n",
      "2017-11-20  135.400000  57.620000  11.3400  3.87  12.130000  13.95  14.090000   \n",
      "2017-11-21  136.700000  58.800000  11.4000  3.81  12.120000  14.15  14.120000   \n",
      "2017-11-22  135.250000  57.680000  11.3700  3.97  12.070000  14.24  13.100000   \n",
      "2017-11-24  137.060000  57.910000  11.3800  3.92  12.100000  14.35  13.320000   \n",
      "2017-11-27  136.230000  56.940000  11.5500  3.81  12.110000  14.09  13.470000   \n",
      "2017-11-28  136.890000  57.330000  11.1700  3.87  12.210000  14.21  13.880000   \n",
      "2017-11-29  131.950000  52.910000  10.8250  4.05  12.560000  14.01  13.970000   \n",
      "2017-11-30  134.320000  52.770000  10.8900  4.07  12.520000  13.92  13.950000   \n",
      "2017-12-01  132.150000  51.910000  10.7201  4.09  12.580000  14.11  14.440000   \n",
      "2017-12-04  129.350000  49.770000  10.0300  3.95  12.630000  14.30  14.230000   \n",
      "2017-12-05  127.990000  50.080000   9.9100  3.92  12.430000  14.11  14.080000   \n",
      "2017-12-06  127.480000  51.010000  10.0000  3.77  12.380000  14.35  14.160000   \n",
      "2017-12-07  129.080000  52.300000  10.0400  3.70  12.530000  14.84  14.220000   \n",
      "2017-12-08  130.600000  51.430000   9.9400  3.68  12.610000  14.97  14.340000   \n",
      "2017-12-11  131.140000  51.620000  10.1600  3.83  12.580000  15.02  14.580000   \n",
      "2017-12-12  130.360000  50.470000   9.9000  3.81  12.600000  15.71  14.500000   \n",
      "2017-12-13  130.100000  50.760000  10.1100  3.72  12.630000  16.32  14.320000   \n",
      "2017-12-14  127.580000  51.310000  10.1300  3.64  12.460000  16.19  14.240000   \n",
      "2017-12-15  129.570000  52.540000  10.3000  3.51  12.580000  16.98  14.410000   \n",
      "2017-12-18  132.080000  53.400000  10.9800  3.69  12.660000  17.35  14.900000   \n",
      "2017-12-19  132.020000  52.960000  10.9500  3.61  12.690000  17.33  14.800000   \n",
      "2017-12-20  131.330000  53.290000  10.9800  3.78  12.720000  17.66  14.710000   \n",
      "2017-12-21  128.650000  51.890000  10.8900  3.84  12.630000  18.18  14.720000   \n",
      "2017-12-22  129.290000  52.060000  10.5400  3.85  12.580000  18.10  14.710000   \n",
      "2017-12-26  129.040000  51.050000  10.4600  4.00  12.600000  18.67  14.740000   \n",
      "2017-12-27  128.430000  51.680000  10.5300  3.88  12.500000  18.69  14.670000   \n",
      "2017-12-28  128.450000  51.720000  10.5500  4.04  12.580000  19.27  14.610000   \n",
      "2017-12-29  127.890000  51.120000  10.2800  3.96  12.490000  18.96  14.360000   \n",
      "\n",
      "                                                                       \\\n",
      "ticker        IDXX   JCP        NEM        NVDA        OKE       TIVO   \n",
      "date                                                                    \n",
      "2017-01-03  117.60  8.33  34.460579  101.688849  55.859060  19.737570   \n",
      "2017-01-04  115.95  8.47  34.788964  104.061357  55.716441  20.313850   \n",
      "2017-01-05  115.96  7.86  36.391088  101.419699  55.935123  20.073733   \n",
      "2017-01-06  118.36  7.57  35.246714  102.775418  55.050886  20.121756   \n",
      "2017-01-09  119.02  7.19  35.187007  106.942258  54.651553  19.977687   \n",
      "2017-01-10  120.71  7.00  34.908377  106.134808  53.310936  19.689547   \n",
      "2017-01-11  121.12  7.05  34.201851  104.828932  54.442379  19.497454   \n",
      "2017-01-12  120.64  6.94  34.301361  103.114347  53.786332  19.305361   \n",
      "2017-01-13  120.80  6.76  34.361068  103.104379  53.539126  19.305361   \n",
      "2017-01-17  120.01  6.94  34.968084  100.791683  53.539126  18.873151   \n",
      "2017-01-18  118.90  6.81  35.087497  102.625890  53.776824  18.969198   \n",
      "2017-01-19  120.28  6.69  34.759111  104.828932  53.206349  18.344895   \n",
      "2017-01-20  118.88  6.85  34.868573  103.682553  53.805348  19.017221   \n",
      "2017-01-23  117.74  6.85  35.704463  104.759153  53.139793  18.729081   \n",
      "2017-01-24  118.51  6.95  35.863681  106.992101  53.510602  19.161291   \n",
      "2017-01-25  121.40  6.94  34.779013  107.450653  52.816524  18.969198   \n",
      "2017-01-26  119.61  6.77  34.022731  109.304797  52.811770  18.777105   \n",
      "2017-01-27  121.66  6.45  34.211802  111.418123  52.792541  18.344895   \n",
      "2017-01-30  120.50  6.55  34.798915  109.673632  51.696502  17.912685   \n",
      "2017-01-31  122.33  6.65  36.102506  108.836277  52.984828  18.152802   \n",
      "2017-02-01  122.80  6.53  35.694512  113.591260  51.917633  17.912685   \n",
      "2017-02-02  139.07  6.72  36.500549  115.026726  53.417475  17.432453   \n",
      "2017-02-03  142.02  6.69  36.580158  114.019906  54.273155  17.864662   \n",
      "2017-02-06  142.01  6.63  37.754385  116.940682  53.177116  17.912685   \n",
      "2017-02-07  143.13  6.64  37.137418  118.754952  52.273365  17.960709   \n",
      "2017-02-08  141.11  6.98  37.664825  118.236589  52.302208  17.720592   \n",
      "2017-02-09  142.11  7.07  37.018005  116.013609  52.994443  18.440942   \n",
      "2017-02-10  141.83  7.14  37.465804  113.262298  53.177116  19.017221   \n",
      "2017-02-13  141.70  7.02  37.197125  108.038795  52.898299  18.681058   \n",
      "2017-02-14  141.60  7.27  36.908544  108.437536  52.830998  18.248848   \n",
      "...            ...   ...        ...         ...        ...        ...   \n",
      "2017-11-16  154.08  3.16  36.090000  211.610000  50.650000  17.503697   \n",
      "2017-11-17  154.88  3.29  36.210000  211.360000  50.670000  17.231747   \n",
      "2017-11-20  155.40  3.33  36.330000  214.080000  50.830000  17.305915   \n",
      "2017-11-21  155.59  3.22  36.370000  216.050000  50.200000  17.454251   \n",
      "2017-11-22  154.06  3.24  36.710000  214.930000  50.580000  18.690388   \n",
      "2017-11-24  154.81  3.26  36.680000  216.960000  51.040000  18.245379   \n",
      "2017-11-27  155.43  3.35  37.100000  214.140000  50.020000  17.800370   \n",
      "2017-11-28  155.02  3.50  37.140000  210.710000  50.060000  17.899261   \n",
      "2017-11-29  154.00  3.54  36.600000  196.420000  50.430000  17.701479   \n",
      "2017-11-30  156.41  3.31  36.990000  200.710000  51.900000  17.602588   \n",
      "2017-12-01  155.00  3.36  37.190000  197.680000  52.110000  17.503697   \n",
      "2017-12-04  159.30  3.40  36.840000  186.660000  52.290000  16.317006   \n",
      "2017-12-05  159.78  3.30  36.200000  187.740000  52.340000  16.050000   \n",
      "2017-12-06  159.99  3.34  35.830000  189.260000  51.800000  16.200000   \n",
      "2017-12-07  159.78  3.27  35.920000  191.990000  52.410000  15.950000   \n",
      "2017-12-08  160.57  3.22  35.400000  191.490000  53.010000  16.000000   \n",
      "2017-12-11  159.70  3.20  34.670000  194.660000  53.400000  16.150000   \n",
      "2017-12-12  159.27  2.87  34.590000  190.840000  53.400000  15.900000   \n",
      "2017-12-13  158.20  3.02  35.750000  186.180000  53.220000  14.700000   \n",
      "2017-12-14  155.25  2.91  35.900000  186.470000  52.740000  14.600000   \n",
      "2017-12-15  156.60  3.09  35.870000  191.560000  52.160000  14.300000   \n",
      "2017-12-18  157.30  3.19  36.650000  197.900000  52.350000  14.250000   \n",
      "2017-12-19  157.39  3.04  36.350000  196.110000  51.860000  14.450000   \n",
      "2017-12-20  158.68  3.05  36.610000  196.800000  51.510000  14.300000   \n",
      "2017-12-21  157.28  3.03  36.730000  195.890000  52.220000  14.250000   \n",
      "2017-12-22  157.65  3.14  36.920000  195.270000  53.210000  14.050000   \n",
      "2017-12-26  157.07  3.31  37.570000  197.440000  53.260000  14.100000   \n",
      "2017-12-27  156.69  3.24  37.600000  197.170000  53.170000  13.900000   \n",
      "2017-12-28  158.79  3.29  37.510000  197.400000  53.490000  14.000000   \n",
      "2017-12-29  156.38  3.16  37.520000  193.500000  53.450000  15.600000   \n",
      "\n",
      "                       \n",
      "ticker            WMB  \n",
      "date                   \n",
      "2017-01-03  30.504143  \n",
      "2017-01-04  30.407181  \n",
      "2017-01-05  30.775635  \n",
      "2017-01-06  31.434975  \n",
      "2017-01-09  30.959863  \n",
      "2017-01-10  27.634077  \n",
      "2017-01-11  27.905570  \n",
      "2017-01-12  27.828001  \n",
      "2017-01-13  27.692254  \n",
      "2017-01-17  27.575900  \n",
      "2017-01-18  27.478938  \n",
      "2017-01-19  27.585596  \n",
      "2017-01-20  27.352888  \n",
      "2017-01-23  27.352888  \n",
      "2017-01-24  27.614685  \n",
      "2017-01-25  27.934658  \n",
      "2017-01-26  28.089797  \n",
      "2017-01-27  27.634077  \n",
      "2017-01-30  27.314104  \n",
      "2017-01-31  27.963747  \n",
      "2017-02-01  27.469242  \n",
      "2017-02-02  27.769823  \n",
      "2017-02-03  28.012228  \n",
      "2017-02-06  28.293417  \n",
      "2017-02-07  27.663166  \n",
      "2017-02-08  27.440154  \n",
      "2017-02-09  27.798912  \n",
      "2017-02-10  27.575900  \n",
      "2017-02-13  28.157670  \n",
      "2017-02-14  28.012228  \n",
      "...               ...  \n",
      "2017-11-16  27.020000  \n",
      "2017-11-17  27.260000  \n",
      "2017-11-20  27.320000  \n",
      "2017-11-21  27.240000  \n",
      "2017-11-22  27.750000  \n",
      "2017-11-24  28.070000  \n",
      "2017-11-27  27.980000  \n",
      "2017-11-28  28.360000  \n",
      "2017-11-29  28.320000  \n",
      "2017-11-30  29.050000  \n",
      "2017-12-01  29.290000  \n",
      "2017-12-04  29.050000  \n",
      "2017-12-05  29.070000  \n",
      "2017-12-06  28.690000  \n",
      "2017-12-07  28.470000  \n",
      "2017-12-08  28.550000  \n",
      "2017-12-11  28.900000  \n",
      "2017-12-12  29.080000  \n",
      "2017-12-13  29.060000  \n",
      "2017-12-14  29.680000  \n",
      "2017-12-15  29.730000  \n",
      "2017-12-18  30.140000  \n",
      "2017-12-19  30.060000  \n",
      "2017-12-20  30.050000  \n",
      "2017-12-21  30.320000  \n",
      "2017-12-22  30.310000  \n",
      "2017-12-26  30.490000  \n",
      "2017-12-27  30.390000  \n",
      "2017-12-28  30.510000  \n",
      "2017-12-29  30.490000  \n",
      "\n",
      "[250 rows x 14 columns]\n"
     ]
    }
   ],
   "source": [
    "# Hier werden die Preise von der Quandl Datenbank gezogen\n",
    "\n",
    "def datafunction(tickers):\n",
    "    data = quandl.get_table('WIKI/PRICES', ticker = tickers, \n",
    "                            qopts = { 'columns': ['ticker', 'date', 'adj_close'] },\n",
    "                            date = { 'gte': '2016-12-31', 'lte': '2017-12-31' }, \n",
    "                            paginate=True)\n",
    "    new = data.set_index('date')\n",
    "    # use pandas pivot function to sort adj_close by tickers\n",
    "    clean_data = new.pivot(columns='ticker')\n",
    "    return clean_data\n",
    "\n",
    "stocklist = stocks1 + stocks2\n",
    "#print(stocklist)\n",
    "\n",
    "\n",
    "clean_data = datafunction(stocklist)\n",
    "\n",
    "print(clean_data)\n"
   ]
  },
  {
   "cell_type": "markdown",
   "metadata": {},
   "source": [
    "\n",
    "## In der nächsten Zeile können Sie die Modellparameter bestimmen \n",
    "\n",
    "---\n",
    "\n",
    "**Wichtig ist das man das Maixmalgewicht nicht unterschreitet, da sonst die Gewichte in keinem Fall auf 100% kommen können und das das Programm eine Fehlermeldung wiedergibt**\n",
    "\n",
    "Generell sollte das minimale und maximale Gewicht pro Wertpapier zwischen -1.0 und 1.0 liegen (-100% und 100%) \n",
    "\n",
    "---\n",
    "\n"
   ]
  },
  {
   "cell_type": "code",
   "execution_count": 18,
   "metadata": {},
   "outputs": [
    {
     "name": "stdout",
     "output_type": "stream",
     "text": [
      "Achtung! das Maximale Gewicht (Maximal_gewicht) darf  7.143 % nicht unterschreiten!\n"
     ]
    }
   ],
   "source": [
    "# hier kann man die Modelparameter anpassen:\n",
    "\n",
    "#Gewichtung im Model\n",
    "Minimal_gewicht1 = -0.0\n",
    "Maximal_gewicht1 = 0.1\n",
    "\n",
    "Minimal_gewicht2 = 0.05\n",
    "Maximal_gewicht2 = 0.15\n",
    "\n",
    "Scale = 100 #usually set to 100\n",
    "Riskaversion = 99 #have to figure out how to make it proportional to the Scale \n",
    "\n",
    "rf = 0.01 #risk-free rate for assets \n",
    "\n",
    "data_start = 2016-12-31\n",
    "data_end = 2017-12-31\n",
    "\n",
    "\n",
    "x = decimal.Decimal(100/len(stocklist))\n",
    "print(\"Achtung! das Maximale Gewicht (Maximal_gewicht) darf \", round(x,3) , \"% nicht unterschreiten!\")\n"
   ]
  },
  {
   "cell_type": "code",
   "execution_count": 19,
   "metadata": {},
   "outputs": [
    {
     "name": "stdout",
     "output_type": "stream",
     "text": [
      "(249, 14)\n"
     ]
    }
   ],
   "source": [
    "# here I will transform the data to be suitable for the model used\n",
    "\n",
    "returnss = (clean_data.pct_change().dropna())\n",
    "number = len(stocklist)\n",
    "\n",
    "\n",
    "#clean_data.plot(figsize=(15, 10))\n",
    "#print(returns.as_matrix)\n",
    "returns = returnss.values #as_matrix()\n",
    "print((returns.shape))\n",
    "\n"
   ]
  },
  {
   "cell_type": "code",
   "execution_count": 20,
   "metadata": {},
   "outputs": [],
   "source": [
    "def optimal_portfolio(returns):\n",
    "    \n",
    "    n = len(returns)\n",
    "    N1 = len(stocks1)\n",
    "    N2 = len(stocks2)\n",
    "    \n",
    "    #returns = np.diff(returns)\n",
    "    returns = np.asmatrix(returns)\n",
    "    \n",
    "    G = Scale\n",
    "    mus = [10**(5.0 * t/G - 1.0) for t in range(G)]\n",
    "\n",
    "    # Convert to cvxopt matrices\n",
    "    S = opt.matrix(np.cov(returns)) #np.diff(returns1)\n",
    "    pbar = opt.matrix(np.mean(returns, axis=1))\n",
    "    \n",
    "    \n",
    "    # new constraint matrices for negative weights and weight adjustment\n",
    "    dank = -np.array(np.eye(n))\n",
    "    dabbie = np.array(np.eye(n))\n",
    "    ye = np.vstack((dank, dabbie))\n",
    "    G = opt.matrix(ye, tc='d')\n",
    "    #deed = np.ones((2*n ,1))\n",
    "    #h = opt.matrix(deed, tc='d')\n",
    "    \n",
    "    #h is the matrix that specifies the weight of the asset, might write a function later that returns this matrix \n",
    "    d1 = -np.ones((N1,1))*Minimal_gewicht1 #0.02\n",
    "    e1 = np.ones((N1,1))*Maximal_gewicht1 #0.050\n",
    "    d2 = -np.ones((N2,1))*Minimal_gewicht2\n",
    "    e2 =  np.ones((N2,1))*Maximal_gewicht2\n",
    "    min_constraint = np.vstack((d1, d2))\n",
    "    max_constraint = np.vstack((e1, e2))\n",
    "\n",
    "    dodo = np.vstack((min_constraint, max_constraint))\n",
    "    h = opt.matrix(dodo, tc='d')\n",
    "\n",
    "        \n",
    "    # Create constraint matrices do not uncomment G & H\n",
    "    #G = -opt.matrix(np.eye(n))   # negative n x n identity matrix\n",
    "    #h = opt.matrix(0.0, (n ,1))\n",
    "    A = opt.matrix(1.0, (1, n))\n",
    "    b = opt.matrix(1.0)\n",
    "\n",
    "    # Calculate efficient frontier weights\n",
    "    portfolios = [solvers.qp(mu*S, -pbar, G, h, A, b)['x'] for mu in mus]\n",
    "    \n",
    "\n",
    "    ## CALCULATE RISKS AND RETURNS FOR FRONTIER  (will add back later)\n",
    "    returns = np.asarray([blas.dot(pbar, x) for x in portfolios])\n",
    "    risks = np.asarray([np.sqrt(blas.dot(x, S*x)) for x in portfolios])\n",
    "    \n",
    "    \n",
    "    ## Maximum Return Portfolio (will always return weights with 100% in asset with maximum mean return)\n",
    "    m1 = np.polyfit(returns, risks, 2)\n",
    "    x1 = np.sqrt((m1[2])/ m1[0]) ##change for desired portfolio this solves for horizontal tangent portfolio (not now)\n",
    "    maxr_opt = solvers.qp(opt.matrix(x1 * S), -pbar, G, h, A, b)['x']\n",
    "    \n",
    "    ## approximates the position of the maximum Sharpe portfolio (also called tangent portfolio)\n",
    "    ## the bigger the scale parameter the more accurate the calculation of the maximum sharpe portfolio!\n",
    "    \n",
    "    slope = (returns-(rf/252))/risks\n",
    "    sharpe_opt = slope.argmax()\n",
    "    \n",
    "    ## Minimum Variance Portfolio\n",
    "    mini_var =  np.array(mus).max()\n",
    "    minv_opt = solvers.qp(opt.matrix(mini_var * S), -pbar, G, h, A, b)['x']\n",
    "    \n",
    "    \n",
    "    return np.asarray(maxr_opt), returns, risks, portfolios, sharpe_opt, mini_var\n",
    "\n",
    "max_return_weights, exp_returns, exp_risk, weights, max_sharpe_weights, min_var_weights = optimal_portfolio(returns.T)\n",
    "\n",
    "\n",
    "#index portfolios on the efficient frontier here\n",
    "test1=np.array(opt.matrix(weights))\n",
    "sublist=[test1[n:n+number] for n in range(0,len(test1),number)]\n",
    "real=sublist[Riskaversion]\n"
   ]
  },
  {
   "cell_type": "code",
   "execution_count": 21,
   "metadata": {},
   "outputs": [],
   "source": [
    "#show portfolio weights here, removing small weights\n",
    "\n",
    "l = np.array(stocklist)\n",
    "dic = {}\n",
    "for i in range(len(stocklist)):\n",
    "    dic[stocklist[i]] = real[i]\n",
    "\n",
    "indexlist = pd.Series(dic, index=stocklist)\n",
    "newlist = indexlist[abs(indexlist) > 0.005]\n",
    "newlist=newlist.astype(float)\n"
   ]
  },
  {
   "cell_type": "code",
   "execution_count": 22,
   "metadata": {},
   "outputs": [
    {
     "name": "stdout",
     "output_type": "stream",
     "text": [
      "AMD     0.100000\n",
      "NVDA    0.100000\n",
      "NEM     0.100000\n",
      "ALB     0.063766\n",
      "FCX     0.100000\n",
      "HPE     0.038401\n",
      "IDXX    0.100000\n",
      "WMB     0.023073\n",
      "TIVO    0.150000\n",
      "JCP     0.073390\n",
      "F       0.150000\n",
      "dtype: float64\n"
     ]
    },
    {
     "data": {
      "image/png": "[encoded data removed]",
      "text/plain": [
       "<Figure size 576x576 with 1 Axes>"
      ]
     },
     "metadata": {},
     "output_type": "display_data"
    }
   ],
   "source": [
    "abs(newlist).plot.pie(y=None) \n",
    "plt.axis('equal')\n",
    "print(newlist)\n",
    "fig = plt.gcf()\n",
    "fig.set_size_inches(8,8)"
   ]
  },
  {
   "cell_type": "code",
   "execution_count": 23,
   "metadata": {},
   "outputs": [
    {
     "data": {
      "text/plain": [
       "[<matplotlib.lines.Line2D at 0x2278fcb2b38>]"
      ]
     },
     "execution_count": 23,
     "metadata": {},
     "output_type": "execute_result"
    },
    {
     "data": {
      "image/png": "[encoded data removed]",
      "text/plain": [
       "<Figure size 432x288 with 1 Axes>"
      ]
     },
     "metadata": {},
     "output_type": "display_data"
    }
   ],
   "source": [
    "# mu zu rendite \n",
    "\n",
    "scale1 = [t for t in range(Scale)] \n",
    "#scale = scale.reverse()\n",
    "rendite = np.array(exp_returns)*100\n",
    "\n",
    "plt.plot(scale1,rendite)"
   ]
  },
  {
   "cell_type": "code",
   "execution_count": 24,
   "metadata": {},
   "outputs": [
    {
     "data": {
      "text/plain": [
       "[<matplotlib.lines.Line2D at 0x2278fd947b8>]"
      ]
     },
     "execution_count": 24,
     "metadata": {},
     "output_type": "execute_result"
    },
    {
     "data": {
      "image/png": "[encoded data removed]",
      "text/plain": [
       "<Figure size 432x288 with 1 Axes>"
      ]
     },
     "metadata": {},
     "output_type": "display_data"
    }
   ],
   "source": [
    "# relationship between number of assets in a portfolio (weighted more than 0.001) and expected return\n",
    "\n",
    "def counting():\n",
    "    count = []\n",
    "    for lists in sublist:\n",
    "        newlist = []\n",
    "        for i in lists:\n",
    "            if (i >= 0.005):\n",
    "                newlist.append(i)\n",
    "        count.append(len(newlist))\n",
    "    return count\n",
    "q = counting()\n",
    "\n",
    "plt.plot(q, rendite)"
   ]
  },
  {
   "cell_type": "code",
   "execution_count": 25,
   "metadata": {},
   "outputs": [
    {
     "data": {
      "text/plain": [
       "[<matplotlib.lines.Line2D at 0x2278fd17d30>]"
      ]
     },
     "execution_count": 25,
     "metadata": {},
     "output_type": "execute_result"
    },
    {
     "data": {
      "image/png": "[encoded data removed]",
      "text/plain": [
       "<Figure size 432x288 with 1 Axes>"
      ]
     },
     "metadata": {},
     "output_type": "display_data"
    }
   ],
   "source": [
    "#classic markowitz bullet\n",
    "\n",
    "plt.plot(exp_risk, rendite)"
   ]
  },
  {
   "cell_type": "code",
   "execution_count": 26,
   "metadata": {},
   "outputs": [
    {
     "data": {
      "text/plain": [
       "[<matplotlib.lines.Line2D at 0x2278dfd8e48>]"
      ]
     },
     "execution_count": 26,
     "metadata": {},
     "output_type": "execute_result"
    },
    {
     "data": {
      "image/png": "[encoded data removed]",
      "text/plain": [
       "<Figure size 432x288 with 1 Axes>"
      ]
     },
     "metadata": {},
     "output_type": "display_data"
    }
   ],
   "source": [
    "#risk and number of stocks in a portfolio\n",
    "plt.plot(q, exp_risk)"
   ]
  },
  {
   "cell_type": "code",
   "execution_count": 27,
   "metadata": {},
   "outputs": [],
   "source": [
    "## next step is to organize pie charts nicely, 3 pie charts minimum variance, max sharpe and max return \n"
   ]
  },
  {
   "cell_type": "code",
   "execution_count": 28,
   "metadata": {},
   "outputs": [],
   "source": [
    "# ok ok "
   ]
  },
  {
   "cell_type": "code",
   "execution_count": null,
   "metadata": {},
   "outputs": [],
   "source": []
  }
 ],
 "metadata": {
  "kernelspec": {
   "display_name": "Python 3",
   "language": "python",
   "name": "python3"
  },
  "language_info": {
   "codemirror_mode": {
    "name": "ipython",
    "version": 3
   },
   "file_extension": ".py",
   "mimetype": "text/x-python",
   "name": "python",
   "nbconvert_exporter": "python",
   "pygments_lexer": "ipython3",
   "version": "3.6.5"
  }
 },
 "nbformat": 4,
 "nbformat_minor": 2
}

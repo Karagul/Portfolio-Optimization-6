{
 "cells": [
  {
   "cell_type": "markdown",
   "metadata": {},
   "source": [
    "# Problems and Comments \n",
    "---\n",
    "\n",
    "### There are a few problems with this program and with the model itself (that can be solved though): \n",
    "\n",
    "- Estimation of Covariance matrix is very messy, .cov() is a rather inaccurate estimation of the covariance matrix \n",
    "- Exp. Returns (Mean Returns) is a quite bad criterion for futurue returns, Markowitz himself said that\n",
    "- mus vector (exponentially distributed), is rather inaccurate at finding the 'true' convex region\n",
    "- The mus vector might be a tricky thing to solve; it is the parameter that the model solves for a given variance - so as of now this is a exponentially distributed scale, which is later multiplied by the covariance matrix in the optimization (see: https://cvxopt.org/examples/book/portfolio.html). More intuitively (and closer to the actual model), mus should be distributed between the minimum return (either simply 0, or the return of the minimum-return asset) and the maximum return asset. The problem is, that the constraint matrices will have to be modified accordingly (instead of multiplying mu by covariance)\n",
    "- This is *the* foundational model in portfolio optimization, better and more robust models have been suggested\n",
    "- Vizualisation and \n",
    "\n"
   ]
  },
  {
   "cell_type": "code",
   "execution_count": null,
   "metadata": {},
   "outputs": [],
   "source": []
  }
 ],
 "metadata": {
  "kernelspec": {
   "display_name": "Python 3",
   "language": "python",
   "name": "python3"
  },
  "language_info": {
   "codemirror_mode": {
    "name": "ipython",
    "version": 3
   },
   "file_extension": ".py",
   "mimetype": "text/x-python",
   "name": "python",
   "nbconvert_exporter": "python",
   "pygments_lexer": "ipython3",
   "version": "3.6.5"
  }
 },
 "nbformat": 4,
 "nbformat_minor": 2
}

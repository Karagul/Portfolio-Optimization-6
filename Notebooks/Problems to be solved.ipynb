{
 "cells": [
  {
   "cell_type": "markdown",
   "metadata": {},
   "source": [
    "# Problems and Comments \n",
    "---\n",
    "\n",
    "### There are a few problems with this program and with the model itself (that can be solved): \n",
    "\n",
    "1. Estimation of Covariance matrix is very messy, .cov() is a rather inaccurate estimation of the covariance matrix \n",
    "\n",
    "2. Exp. Returns (Mean Returns) is a quite bad criterion for futurue returns, Markowitz himself said that\n",
    "\n",
    "3. Mus vector (exponentially distributed), is rather inaccurate at finding the 'true' convex region. The mus vector might be a tricky thing to solve; it is the parameter that the model solves for a given variance - so as of now this is a exponentially distributed scale, which is later multiplied by the covariance matrix in the optimization (see: https://cvxopt.org/examples/book/portfolio.html). More intuitively (and closer to the actual model), mus should be distributed between the minimum return (either simply 0, or the return of the minimum-return asset) and the maximum return asset. The problem is, that the constraint matrices will have to be modified accordingly (instead of multiplying mu by covariance)\n",
    "\n",
    "4. This is *the* foundational model in portfolio optimization, better and more robust models have been suggested\n",
    "\n",
    "5. Vizualisation of the portfolio of the results is not great as of now, there are many cool things that can be done (@Ash), simply way would be to plot the efficient frontier (like in the picture below), play with visualization of portfolios (aka pie charts, doughnut charts, stacked bar chart (to show distriubtion with different risk) or tree maps)\n",
    "\n",
    "![Tangent Portfolio](https://github.com/kgeoffrey/Mean-Variance-Model/blob/master/Notebooks/tangentportfolio.gif?raw=true)\n",
    "\n",
    "---\n",
    "\n",
    "### Some solutions I thought of \n",
    "\n",
    "1. The math here can get *hard*, luckily there are some libraries that can help with estimating a robust covariance matrix (http://scikit-learn.org/stable/modules/covariance.html)\n",
    "\n",
    "2. This can be done by simply setting all returns to 1 or using log returns instead! (there is a pitfall though: https://papers.ssrn.com/sol3/papers.cfm?abstract_id=1549328) \n",
    "\n",
    "3. Tricky and probabaly the most work, a quantopian user managed to do this (https://www.quantopian.com/posts/the-efficient-frontier-markowitz-portfolio-optimization-in-python-using-cvxopt). The program as of now can allow for short selling and put restrictions on invidual assets weights,by modifying h and G matrices accordingly. I will have to figure out new ways of implementing these features after using the better formulation of the optimization probelm\n",
    "\n",
    "4. The Mean-Absolute-Deviation Model is finished and ready for upload (it is not parametrized however, it only solves for the minimum variance portfolio - also the region is not convex, a story for another time). Interesting to implement would be the Black-Litterman Model (as it allows to incorporate one's own views; aka I think security x will outperfom security y), there are other models but they are very difficult to implement (downside risk models etc.)\n",
    "\n",
    "5. probably coolest and easiest to do rn, viz of results via matplotlib and also interactive via bokeh. I do have a very cool idea for a vizualization of the process of finding 'optimal portfolios', by running a montecarlo optimization (random plotting to show how the frontier emerges) and saving it as a GIF (imagine the karma :D). Here is a reddit link that explains how to do this with in python for approximating e: https://www.reddit.com/r/dataisbeautiful/comments/91rgzy/monte_carlo_simulation_of_e_oc/e3046ph/, also see below for reference of what it could look like!\n",
    "\n",
    "![Montecarlo Optimization](https://github.com/kgeoffrey/Mean-Variance-Model/blob/master/Notebooks/ezgif.com-video-to-gif.gif)\n"
   ]
  },
  {
   "cell_type": "code",
   "execution_count": null,
   "metadata": {},
   "outputs": [],
   "source": []
  }
 ],
 "metadata": {
  "kernelspec": {
   "display_name": "Python 3",
   "language": "python",
   "name": "python3"
  },
  "language_info": {
   "codemirror_mode": {
    "name": "ipython",
    "version": 3
   },
   "file_extension": ".py",
   "mimetype": "text/x-python",
   "name": "python",
   "nbconvert_exporter": "python",
   "pygments_lexer": "ipython3",
   "version": "3.6.5"
  }
 },
 "nbformat": 4,
 "nbformat_minor": 2
}

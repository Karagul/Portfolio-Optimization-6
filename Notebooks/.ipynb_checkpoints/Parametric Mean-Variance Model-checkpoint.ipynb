{
 "cells": [
  {
   "cell_type": "code",
   "execution_count": 18,
   "metadata": {},
   "outputs": [],
   "source": [
    "## Put libraries to be used here\n",
    "\n",
    "import decimal\n",
    "import pandas as pd\n",
    "import numpy as np\n",
    "import cvxopt as opt\n",
    "from cvxopt import blas, solvers\n",
    "import quandl\n",
    "# API configuration here\n",
    "quandl.ApiConfig.api_key = \"VAA5bZ67DimoDkvMStuG\"\n",
    "solvers.options['show_progress'] = False\n",
    "\n",
    "# libs for visualization\n",
    "import matplotlib.pyplot as plt"
   ]
  },
  {
   "cell_type": "code",
   "execution_count": 19,
   "metadata": {},
   "outputs": [],
   "source": [
    "## 1. List of stock tickers \n",
    "\n",
    "stocks1 = ['AMD', 'NVDA', 'OKE', 'CHK', 'NEM', 'AMAT', 'ALB', 'FCX', 'HPE', 'IDXX', 'WMB']\n",
    "stocks2 = ['TIVO', 'JCP', 'F']\n",
    "\n",
    "Minimal_gewicht1 = -0.0\n",
    "Maximal_gewicht1 = 1.0\n",
    "Minimal_gewicht2 = -0.0\n",
    "Maximal_gewicht2 = 1.0\n",
    "Scale = 100 \n",
    "Riskaversion = 99 \n",
    "rf = 0.01\n",
    "\n",
    "target = 0.10"
   ]
  },
  {
   "cell_type": "code",
   "execution_count": 20,
   "metadata": {},
   "outputs": [],
   "source": [
    "## 2. Getting Data for the stock tickers \n",
    "\n",
    "def datafunction(tickers):\n",
    "    data = quandl.get_table('WIKI/PRICES', ticker = tickers, \n",
    "                            qopts = { 'columns': ['ticker', 'date', 'adj_close'] },\n",
    "                            date = { 'gte': '2017-11-31', 'lte': '2017-12-31' }, \n",
    "                            paginate=True)\n",
    "    new = data.set_index('date')\n",
    "    # use pandas pivot function to sort adj_close by tickers\n",
    "    clean_data = new.pivot(columns='ticker')\n",
    "    return clean_data\n",
    "\n",
    "stocklist = stocks1 + stocks2\n",
    "#stocklist = stocklist.sort()\n",
    "clean_data = datafunction(stocklist)\n",
    "\n",
    "\n",
    "## 3. Transforming Data for optimization \n",
    "\n",
    "returnss = (clean_data.pct_change().dropna())\n",
    "number = len(stocklist)\n",
    "returns = returnss.values #as_matrix()\n",
    "\n",
    "\n",
    "## 4. Optimization!\n",
    "\n",
    "def optimal_portfolio(returns):\n",
    "    \n",
    "    n = len(returns)\n",
    "    N1 = len(stocks1)\n",
    "    N2 = len(stocks2)\n",
    "    returns = np.asmatrix(returns)\n",
    "    \n",
    "    #G = Scale\n",
    "    #mus = [10**(5.0 * t/G - 1.0) for t in range(G)]\n",
    "    pbar = opt.matrix(np.mean(returns, axis=1))\n",
    "    \n",
    "    N=Scale\n",
    "    mus_min=max(min(pbar),0)\n",
    "    mus_max=max(pbar)\n",
    "    mus_step=(mus_max - mus_min) / (N-1)\n",
    "    mus = [mus_min + i*mus_step for i in range(N)]\n",
    "\n",
    "    S = opt.matrix(np.cov(returns))\n",
    "    #pbar = opt.matrix(np.mean(returns, axis=1))\n",
    "    \n",
    "    #constraint matrices\n",
    "    dank = -np.array(np.eye(n))\n",
    "    dabbie = np.array(np.eye(n))\n",
    "    #ye = np.vstack((dank, dabbie))\n",
    "    \n",
    "    dd = np.concatenate((-np.transpose(pbar), dank),0)\n",
    "    mm = np.concatenate((np.transpose(pbar), dabbie),0)\n",
    "    ye = np.vstack((dd, mm))\n",
    "    G = opt.matrix(ye, tc='d')\n",
    "    \n",
    "    #G = opt.matrix(np.concatenate((-np.transpose(pbar),ye),0))\n",
    "    #G = opt.matrix(ye, tc='d')\n",
    "    \n",
    "    d1 = -np.ones((N1,1))*Minimal_gewicht1 \n",
    "    e1 = np.ones((N1,1))*Maximal_gewicht1\n",
    "    d2 = -np.ones((N2,1))*Minimal_gewicht2\n",
    "    e2 =  np.ones((N2,1))*Maximal_gewicht2\n",
    "    min_constraint = np.vstack((d1, d2))\n",
    "    max_constraint = np.vstack((e1, e2))\n",
    "    dodo = np.vstack((min_constraint, max_constraint))\n",
    "    A = opt.matrix(1.0, (1, n))\n",
    "    b = opt.matrix(1.0)\n",
    "    \n",
    "    \n",
    "    \"\"\"\n",
    "    \"\"\"\n",
    "    portfolios=[]\n",
    "    for r_min in mus:\n",
    "        eee = np.vstack((-np.ones((1,1))*r_min, min_constraint))\n",
    "        fff = np.vstack((np.ones((1,1))*r_min, max_constraint))\n",
    "        h = opt.matrix(np.concatenate((eee, fff),0))\n",
    "        \n",
    "        #h = opt.matrix(np.concatenate((-np.ones((1,1))*r_min, dodo),0))\n",
    "        \n",
    "        sol = solvers.qp(S, -pbar, G, h, A, b)['x']\n",
    "        portfolios.append(sol)\n",
    "    \n",
    "    \n",
    "    # Calculate target return portfolio\n",
    "    \"\"\"\n",
    "    eee = np.vstack((-np.ones((1,1))*target, min_constraint))\n",
    "    fff = np.vstack((np.ones((1,1))*target, max_constraint))\n",
    "    h = opt.matrix(np.concatenate((eee, fff),0))\n",
    "    portfolios = [solvers.qp(S, -pbar, G, h, A, b)['x']]\n",
    "    \n",
    "    \"\"\"\n",
    "   \n",
    "    # CALCULATE RISKS AND RETURNS FOR FRONTIER  (will add back later)\n",
    "    returns = np.asarray([blas.dot(pbar, x) for x in portfolios])\n",
    "    risks = np.asarray([np.sqrt(blas.dot(x, S*x)) for x in portfolios])\n",
    "    \n",
    "    \n",
    "    \"\"\"\n",
    "    # Maximum Return Portfolio (will always return weights with 100% in asset with maximum mean return)\n",
    "    m1 = np.polyfit(returns, risks, 2)\n",
    "    x1 = np.sqrt((m1[2])/ m1[0])\n",
    "    maxr_opt = solvers.qp(opt.matrix(x1 * S), -pbar, G, h, A, b)['x']\n",
    "        \"\"\"\n",
    "    \n",
    "    # approximates the position of the maximum Sharpe portfolio (also called tangent portfolio)\n",
    "    # the bigger the scale parameter the more accurate the calculation of the maximum sharpe portfolio!\n",
    "    slope = (returns-(rf/252))/risks\n",
    "    sharpe_opt = slope.argmax()\n",
    "\n",
    "    \n",
    "    return  returns, risks, portfolios, G, h, mus, sharpe_opt\n",
    "\n",
    "exp_returns, exp_risk, weights, G, h, mus, sharpe = optimal_portfolio(returns.T)\n",
    "\n",
    "\n",
    "#index portfolios on the efficient frontier here\n",
    "test1=np.array(opt.matrix(weights))\n",
    "sublist=[test1[n:n+number] for n in range(0,len(test1),number)]\n",
    "real=sublist[Riskaversion]"
   ]
  },
  {
   "cell_type": "code",
   "execution_count": 34,
   "metadata": {},
   "outputs": [
    {
     "name": "stdout",
     "output_type": "stream",
     "text": [
      "[[0.]\n",
      " [0.]\n",
      " [0.]\n",
      " [0.]\n",
      " [0.]\n",
      " [1.]\n",
      " [0.]\n",
      " [0.]\n",
      " [0.]\n",
      " [0.]\n",
      " [0.]\n",
      " [0.]\n",
      " [0.]\n",
      " [0.]]\n"
     ]
    }
   ],
   "source": [
    "t = np.matrix(weights[99])\n",
    "print((t).round(3))\n",
    "\n"
   ]
  },
  {
   "cell_type": "code",
   "execution_count": 35,
   "metadata": {},
   "outputs": [
    {
     "data": {
      "text/plain": [
       "[<matplotlib.lines.Line2D at 0x1c22a5c5320>]"
      ]
     },
     "execution_count": 35,
     "metadata": {},
     "output_type": "execute_result"
    },
    {
     "data": {
      "image/png": "[encoded data removed]",
      "text/plain": [
       "<Figure size 432x288 with 1 Axes>"
      ]
     },
     "metadata": {},
     "output_type": "display_data"
    }
   ],
   "source": [
    "plt.plot(exp_risk, exp_returns)"
   ]
  },
  {
   "cell_type": "code",
   "execution_count": 36,
   "metadata": {},
   "outputs": [],
   "source": [
    "w = exp_returns[99]"
   ]
  },
  {
   "cell_type": "code",
   "execution_count": 37,
   "metadata": {},
   "outputs": [
    {
     "name": "stdout",
     "output_type": "stream",
     "text": [
      "1.585603907653684\n"
     ]
    }
   ],
   "source": [
    "print(w*100)"
   ]
  },
  {
   "cell_type": "code",
   "execution_count": 38,
   "metadata": {},
   "outputs": [
    {
     "name": "stdout",
     "output_type": "stream",
     "text": [
      "['ALB', 'AMAT', 'AMD', 'CHK', 'F', 'FCX', 'HPE', 'IDXX', 'JCP', 'NEM', 'NVDA', 'OKE', 'TIVO', 'WMB']\n"
     ]
    }
   ],
   "source": [
    "print(stocklist)"
   ]
  },
  {
   "cell_type": "code",
   "execution_count": 39,
   "metadata": {},
   "outputs": [
    {
     "name": "stdout",
     "output_type": "stream",
     "text": [
      "           ticker\n",
      "adj_close  ALB      -0.001660\n",
      "           AMAT     -0.000649\n",
      "           AMD      -0.001874\n",
      "           CHK      -0.001253\n",
      "           F        -0.000351\n",
      "           FCX       0.015856\n",
      "           HPE      -0.000223\n",
      "           IDXX      0.000517\n",
      "           JCP      -0.002420\n",
      "           NEM       0.000549\n",
      "           NVDA     -0.000934\n",
      "           OKE       0.001373\n",
      "           TIVO     -0.005398\n",
      "           WMB       0.002147\n",
      "dtype: float64\n"
     ]
    }
   ],
   "source": [
    "t = returnss.mean()\n",
    "print((t))"
   ]
  },
  {
   "cell_type": "code",
   "execution_count": 40,
   "metadata": {},
   "outputs": [],
   "source": [
    "l = np.array(stocklist)\n",
    "dic = {}\n",
    "for i in range(len(stocklist)):\n",
    "    dic[stocklist[i]] = real[i]\n",
    "\n",
    "indexlist = pd.Series(dic, index=stocklist)\n",
    "newlist = indexlist[abs(indexlist) > 0.005]\n",
    "newlist=newlist.astype(float)"
   ]
  },
  {
   "cell_type": "code",
   "execution_count": 41,
   "metadata": {},
   "outputs": [],
   "source": [
    "stocklist1 = sorted(stocklist)"
   ]
  },
  {
   "cell_type": "code",
   "execution_count": null,
   "metadata": {},
   "outputs": [],
   "source": []
  }
 ],
 "metadata": {
  "kernelspec": {
   "display_name": "Python 3",
   "language": "python",
   "name": "python3"
  },
  "language_info": {
   "codemirror_mode": {
    "name": "ipython",
    "version": 3
   },
   "file_extension": ".py",
   "mimetype": "text/x-python",
   "name": "python",
   "nbconvert_exporter": "python",
   "pygments_lexer": "ipython3",
   "version": "3.6.5"
  }
 },
 "nbformat": 4,
 "nbformat_minor": 2
}

{
 "cells": [
  {
   "cell_type": "markdown",
   "metadata": {},
   "source": [
    " **Kurze Erklärung zum Programm**\n",
    "\n",
    "# Markowitz (Mean-Variance) Model\n",
    "\n",
    "--- \n",
    "\n",
    "Hier stelle ich kurz das Grundliegende Model der Portfoliotheorie vor: Das Markowitz Model!\n",
    "\n",
    "\n",
    "Wenn die Schwankung der täglichen Renditen verschiedener Aktien ungefähr Normal verteilt ist, kann man die Gewichtung so kombinieren das die Schwankung des Portfolios kleiner ist als die Schwakung der einzelnen Titel (\"Minimumvarianzprinzip\")\n",
    "\n",
    "---\n",
    "\n",
    "\n"
   ]
  },
  {
   "cell_type": "code",
   "execution_count": 179,
   "metadata": {},
   "outputs": [],
   "source": [
    "# Hier im ersten Block werden Libraries für die Berechnung des Portfolios importiert \n",
    "\n",
    "import decimal\n",
    "import pandas as pd\n",
    "import numpy as np\n",
    "import cvxopt as opt\n",
    "from cvxopt import blas, solvers\n",
    "import quandl\n",
    "import matplotlib.pyplot as plt\n",
    "# API configuration here\n",
    "quandl.ApiConfig.api_key = \"VAA5bZ67DimoDkvMStuG\"\n",
    "solvers.options['show_progress'] = False\n",
    "import matplotlib.pyplot as plt"
   ]
  },
  {
   "cell_type": "code",
   "execution_count": 222,
   "metadata": {},
   "outputs": [],
   "source": [
    "# Hier werden die Aktien oder Anleihen in einer Liste geladen\n",
    "# stocklist und bond list muss klar unterschieden werden\n",
    "\n",
    "stocklist = ['AMD', 'NVDA', 'OKE', 'CHK', 'NEM', 'AMAT', 'ALB', 'FCX', 'HPE', 'IDXX', 'WMB']\n",
    "\n",
    "'''\n",
    "stocklist = ['AMD', 'NVDA', 'OKE', 'CHK', 'NEM', 'AMAT', 'ALB', 'FCX', 'HPE', 'IDXX', 'WMB',\n",
    "        'DHR', 'WYNN', 'PWR', 'ALGN', 'MU', 'CHTR', 'AVGO', 'CMA', 'NAVI', 'NUE', 'DLR', 'CNP', 'SYMC', 'RF',\n",
    "        'MCHP', 'SYY', 'LRCX', 'FMC', 'ROST', 'TWX', 'MLM', 'STX', 'UNH', 'VTR', 'DRE', 'DGX', 'PLD', 'HP',\n",
    "        'UAL', 'GLW', 'KEY', 'BBY', 'DE', 'CMI', 'WM', 'MGM', 'SNI', 'CFG', 'ZION', 'HAL', 'RSG', 'DRI', 'PKG']\n",
    "\n",
    "'''\n",
    "\n",
    "# A list of riskier stocks, (could be any other asset) to restrict the weights specifically\n",
    "\n",
    "risklist = ['TIVO', 'JCP', 'F']"
   ]
  },
  {
   "cell_type": "code",
   "execution_count": 195,
   "metadata": {},
   "outputs": [],
   "source": [
    "# Hier werden die Preise von der Quandl Datenbank gezogen\n",
    "\n",
    "data = quandl.get_table('WIKI/PRICES', ticker = stocklist, \n",
    "                        qopts = { 'columns': ['ticker', 'date', 'adj_close'] },\n",
    "                        date = { 'gte': '2010-12-31', 'lte': '2017-12-31' }, \n",
    "                        paginate=True)\n",
    "\n",
    "new = data.set_index('date')\n",
    "\n",
    "# use pandas pivot function to sort adj_close by tickers\n",
    "clean_data = new.pivot(columns='ticker')\n",
    "\n",
    "# check the head of the output\n",
    "#clean_data.head()\n"
   ]
  },
  {
   "cell_type": "markdown",
   "metadata": {},
   "source": [
    "\n",
    "## In der nächsten Zeile können Sie die Modellparameter bestimmen \n",
    "\n",
    "---\n",
    "\n",
    "**Wichtig ist das man das Maixmalgewicht nicht unterschreitet, da sonst die Gewichte in keinem Fall auf 100% kommen können und das das Programm eine Fehlermeldung wiedergibt**\n",
    "\n",
    "Generell sollte das minimale und maximale Gewicht pro Wertpapier zwischen -1.0 und 1.0 liegen (-100% und 100%) \n",
    "\n",
    "---\n",
    "\n"
   ]
  },
  {
   "cell_type": "code",
   "execution_count": 209,
   "metadata": {},
   "outputs": [
    {
     "name": "stdout",
     "output_type": "stream",
     "text": [
      "Achtung! das Maximale Gewicht (Maximal_gewicht) darf  9.091 % nicht unterschreiten!\n"
     ]
    }
   ],
   "source": [
    "# hier kann man die Modelparameter anpassen:\n",
    "\n",
    "#Gewichtung im Model\n",
    "Minimal_gewicht = -0.0\n",
    "Maximal_gewicht = 1.0\n",
    "\n",
    "#Scale of Optimization\n",
    "Scale = 100 #usually set to 100\n",
    "\n",
    "Riskaversion = 99 #have to figure out how to make it proportional to the Scale \n",
    "\n",
    "rf = 0.01 #risk-free rate for assets \n",
    "\n",
    "#historical data from beginning to end\n",
    "\n",
    "#data_start = \n",
    "#data_end = \n",
    "\n",
    "\n",
    "x = decimal.Decimal(100/len(stocklist))\n",
    "print(\"Achtung! das Maximale Gewicht (Maximal_gewicht) darf \", round(x,3) , \"% nicht unterschreiten!\")\n"
   ]
  },
  {
   "cell_type": "code",
   "execution_count": 210,
   "metadata": {},
   "outputs": [
    {
     "name": "stdout",
     "output_type": "stream",
     "text": [
      "(543, 11)\n"
     ]
    }
   ],
   "source": [
    "# here I will transform the data to be suitable for the model used\n",
    "\n",
    "returnss = (clean_data.pct_change().dropna())\n",
    "number = len(stocklist)\n",
    "\n",
    "\n",
    "#clean_data.plot(figsize=(15, 10))\n",
    "#print(returns.as_matrix)\n",
    "returns = returnss.values #as_matrix()\n",
    "print((returns.shape))\n",
    "\n"
   ]
  },
  {
   "cell_type": "code",
   "execution_count": 229,
   "metadata": {},
   "outputs": [],
   "source": [
    "def optimal_portfolio(returns):\n",
    "    n = len(returns)\n",
    "    #returns = np.diff(returns)\n",
    "    returns = np.asmatrix(returns)\n",
    "    \n",
    "    G = Scale\n",
    "\n",
    "    #G = 100\n",
    "    mus = [10**(5.0 * t/G - 1.0) for t in range(G)]\n",
    "\n",
    "    # Convert to cvxopt matrices\n",
    "    S = opt.matrix(np.cov(returns)) #np.diff(returns1)\n",
    "    pbar = opt.matrix(np.mean(returns, axis=1))\n",
    "    \n",
    "    \n",
    "    # new constraint matrices for negative weights and weight adjustment\n",
    "    dank = -np.array(np.eye(n))\n",
    "    dabbie = np.array(np.eye(n))\n",
    "    ye = np.vstack((dank, dabbie))\n",
    "    deed = np.ones((2*n ,1))\n",
    "    G = opt.matrix(ye, tc='d')\n",
    "    #h = opt.matrix(deed, tc='d')\n",
    "    #G = opt.matrix(np.r_[-np.eye(n), np.eye(n)], tc='d')\n",
    "    #h = opt.matrix(np.r_[np.zeros((n,1)) +1 , np.zeros((n,1)) + 1], tc='d')\n",
    "    \n",
    "    d = -np.ones((n,1))*Minimal_gewicht #0.02\n",
    "    e = np.ones((n,1))*Maximal_gewicht #0.050\n",
    "    dodo = np.vstack((d, e))\n",
    "    h = opt.matrix(dodo, tc='d')\n",
    "\n",
    "        \n",
    "    # Create constraint matrices do not uncomment G & H\n",
    "    #G = -opt.matrix(np.eye(n))   # negative n x n identity matrix\n",
    "    #h = opt.matrix(0.0, (n ,1))\n",
    "    A = opt.matrix(1.0, (1, n))\n",
    "    b = opt.matrix(1.0)\n",
    "\n",
    "    # Calculate efficient frontier weights\n",
    "    portfolios = [solvers.qp(mu*S, -pbar, G, h, A, b)['x'] for mu in mus]\n",
    "    \n",
    "\n",
    "    ## CALCULATE RISKS AND RETURNS FOR FRONTIER  (will add back later)\n",
    "    returns = np.asarray([blas.dot(pbar, x) for x in portfolios])\n",
    "    risks = np.asarray([np.sqrt(blas.dot(x, S*x)) for x in portfolios])\n",
    "    \n",
    "    \n",
    "    ## Maximum Return Portfolio (will always return weights with 100% in asset with maximum mean return)\n",
    "    m1 = np.polyfit(returns, risks, 2)\n",
    "    x1 = np.sqrt((m1[2])/ m1[0]) ##change for desired portfolio this solves for horizontal tangent portfolio (not now)\n",
    "    maxr_opt = solvers.qp(opt.matrix(x1 * S), -pbar, G, h, A, b)['x']\n",
    "    \n",
    "    ## approximates the position of the maximum Sharpe portfolio (also called tangent portfolio)\n",
    "    slope = (returns-(rf/252))/risks\n",
    "    sharpe_opt = slope.argmax()\n",
    "    \n",
    "    ## Minimum Variance Portfolio\n",
    "    mini_var =  np.array(mus).max()\n",
    "    minv_opt = solvers.qp(opt.matrix(mini_var * S), -pbar, G, h, A, b)['x']\n",
    "    \n",
    "    \n",
    "    return np.asarray(maxr_opt), returns, risks, portfolios, sharpe_opt, mini_var\n",
    "\n",
    "max_return_weights, returns, risk, weights, max_sharpe_weights, min_var_weights = optimal_portfolio(returns.T) #np.diff(returns1) returns3\n",
    "\n",
    "\n",
    "Riskaversion =99\n",
    "# index portfolios on the efficient frontier here\n",
    "test1=np.array(opt.matrix(weights))\n",
    "sublist=[test1[n:n+number] for n in range(0,len(test1),number)]\n",
    "real=sublist[Riskaversion]\n"
   ]
  },
  {
   "cell_type": "code",
   "execution_count": 212,
   "metadata": {},
   "outputs": [],
   "source": [
    "#show portfolio weights here, removing small weights\n",
    "\n",
    "l = np.array(stocklist)\n",
    "dic = {}\n",
    "for i in range(len(stocklist)):\n",
    "    dic[stocklist[i]] = real[i]\n",
    "\n",
    "s = pd.Series(dic, index=stocklist)\n",
    "df = s[abs(s) > 0.005]\n",
    "df=df.astype(float)\n"
   ]
  },
  {
   "cell_type": "code",
   "execution_count": 213,
   "metadata": {},
   "outputs": [
    {
     "name": "stdout",
     "output_type": "stream",
     "text": [
      "AMD     0.155618\n",
      "NVDA    0.145410\n",
      "AMAT    0.081155\n",
      "ALB     0.358163\n",
      "FCX     0.179733\n",
      "HPE     0.045540\n",
      "IDXX    0.034381\n",
      "dtype: float64\n"
     ]
    },
    {
     "data": {
      "image/png": "[encoded data removed]",
      "text/plain": [
       "<matplotlib.figure.Figure at 0x116ff0048>"
      ]
     },
     "metadata": {},
     "output_type": "display_data"
    }
   ],
   "source": [
    "abs(df).plot.pie(y=None) \n",
    "plt.axis('equal')\n",
    "print(df)\n",
    "\n",
    "fig = plt.gcf()\n",
    "fig.set_size_inches(8,8)\n"
   ]
  },
  {
   "cell_type": "code",
   "execution_count": 214,
   "metadata": {},
   "outputs": [
    {
     "data": {
      "text/plain": [
       "[<matplotlib.lines.Line2D at 0x118962978>]"
      ]
     },
     "execution_count": 214,
     "metadata": {},
     "output_type": "execute_result"
    },
    {
     "data": {
      "image/png": "[encoded data removed]",
      "text/plain": [
       "<matplotlib.figure.Figure at 0x116ff0198>"
      ]
     },
     "metadata": {},
     "output_type": "display_data"
    }
   ],
   "source": [
    "# risiko zu rendite \n",
    "t = Scale\n",
    "scale = [t for t in range(t)] \n",
    "sclae = scale.reverse()\n",
    "rendite = np.array(_)*100\n",
    "\n",
    "plt.plot(scale,rendite)\n",
    "#print(scale)"
   ]
  },
  {
   "cell_type": "code",
   "execution_count": 215,
   "metadata": {},
   "outputs": [
    {
     "data": {
      "text/plain": [
       "[<matplotlib.lines.Line2D at 0x1188e58d0>]"
      ]
     },
     "execution_count": 215,
     "metadata": {},
     "output_type": "execute_result"
    },
    {
     "data": {
      "image/png": "[encoded data removed]",
      "text/plain": [
       "<matplotlib.figure.Figure at 0x117db3fd0>"
      ]
     },
     "metadata": {},
     "output_type": "display_data"
    }
   ],
   "source": [
    "# relationship between number of assets in a portfolio (weighted more than 0.001) and return\n",
    "\n",
    "def counting():\n",
    "    count = []\n",
    "    for lists in sublist:\n",
    "        newlist = []\n",
    "        for i in lists:\n",
    "            if (i >= 0.02):\n",
    "                newlist.append(i)\n",
    "        count.append(len(newlist))\n",
    "    return count\n",
    "q = counting()\n",
    "\n",
    "\n",
    "\n",
    "plt.plot(q, rendite)"
   ]
  },
  {
   "cell_type": "code",
   "execution_count": 216,
   "metadata": {},
   "outputs": [
    {
     "data": {
      "text/plain": [
       "[<matplotlib.lines.Line2D at 0x1189c1940>]"
      ]
     },
     "execution_count": 216,
     "metadata": {},
     "output_type": "execute_result"
    },
    {
     "data": {
      "image/png": "[encoded data removed]",
      "text/plain": [
       "<matplotlib.figure.Figure at 0x116f1c6a0>"
      ]
     },
     "metadata": {},
     "output_type": "display_data"
    }
   ],
   "source": [
    "#classic markowitz bullet\n",
    "plt.plot(risk, rendite)"
   ]
  },
  {
   "cell_type": "code",
   "execution_count": 217,
   "metadata": {},
   "outputs": [
    {
     "data": {
      "text/plain": [
       "[<matplotlib.lines.Line2D at 0x118a9d2b0>]"
      ]
     },
     "execution_count": 217,
     "metadata": {},
     "output_type": "execute_result"
    },
    {
     "data": {
      "image/png": "[encoded data removed]",
      "text/plain": [
       "<matplotlib.figure.Figure at 0x116f3c198>"
      ]
     },
     "metadata": {},
     "output_type": "display_data"
    }
   ],
   "source": [
    "#risk and number of stocks in a portfolio\n",
    "plt.plot(q, risk)"
   ]
  },
  {
   "cell_type": "code",
   "execution_count": null,
   "metadata": {},
   "outputs": [],
   "source": []
  },
  {
   "cell_type": "code",
   "execution_count": 230,
   "metadata": {},
   "outputs": [
    {
     "name": "stdout",
     "output_type": "stream",
     "text": [
      "             adj_close\n",
      "ticker            AAPL\n",
      "date                  \n",
      "2017-01-03  114.715378\n",
      "2017-01-04  114.586983\n",
      "2017-01-05  115.169696\n",
      "2017-01-06  116.453639\n",
      "2017-01-09  117.520300\n",
      "2017-01-10  117.638817\n",
      "2017-01-11  118.270913\n",
      "2017-01-12  117.777088\n",
      "2017-01-13  117.569682\n",
      "2017-01-17  118.517825\n",
      "2017-01-18  118.507948\n",
      "2017-01-19  118.300542\n",
      "2017-01-20  118.517825\n",
      "2017-01-23  118.596837\n",
      "2017-01-24  118.488195\n",
      "2017-01-25  120.374604\n",
      "2017-01-26  120.433863\n",
      "2017-01-27  120.443739\n",
      "2017-01-30  120.127692\n",
      "2017-01-31  119.851150\n",
      "2017-02-01  127.159749\n",
      "2017-02-02  126.942467\n",
      "2017-02-03  127.485673\n",
      "2017-02-06  128.680728\n",
      "2017-02-07  129.905412\n",
      "2017-02-08  130.409113\n",
      "2017-02-09  131.347379\n",
      "2017-02-10  131.049809\n",
      "2017-02-13  132.210332\n",
      "2017-02-14  133.926319\n",
      "...                ...\n",
      "2017-11-16  171.100000\n",
      "2017-11-17  170.150000\n",
      "2017-11-20  169.980000\n",
      "2017-11-21  173.140000\n",
      "2017-11-22  174.960000\n",
      "2017-11-24  174.970000\n",
      "2017-11-27  174.090000\n",
      "2017-11-28  173.070000\n",
      "2017-11-29  169.480000\n",
      "2017-11-30  171.850000\n",
      "2017-12-01  171.050000\n",
      "2017-12-04  169.800000\n",
      "2017-12-05  169.640000\n",
      "2017-12-06  169.010000\n",
      "2017-12-07  169.452000\n",
      "2017-12-08  169.370000\n",
      "2017-12-11  172.670000\n",
      "2017-12-12  171.700000\n",
      "2017-12-13  172.270000\n",
      "2017-12-14  172.220000\n",
      "2017-12-15  173.870000\n",
      "2017-12-18  176.420000\n",
      "2017-12-19  174.540000\n",
      "2017-12-20  174.350000\n",
      "2017-12-21  175.010000\n",
      "2017-12-22  175.010000\n",
      "2017-12-26  170.570000\n",
      "2017-12-27  170.600000\n",
      "2017-12-28  171.080000\n",
      "2017-12-29  169.230000\n",
      "\n",
      "[249 rows x 1 columns]\n"
     ]
    }
   ],
   "source": [
    "#I will write a function that will provide data in the correct format\n",
    "\n",
    "stock = ['AAPL']\n",
    "\n",
    "def datafunction(tickers):\n",
    "    data = quandl.get_table('WIKI/PRICES', ticker = stock, \n",
    "                            qopts = { 'columns': ['ticker', 'date', 'adj_close'] },\n",
    "                            date = { 'gte': '2016-12-31', 'lte': '2017-12-31' }, \n",
    "                            paginate=True)\n",
    "    new = data.set_index('date')\n",
    "    # use pandas pivot function to sort adj_close by tickers\n",
    "    clean_data = new.pivot(columns='ticker')\n",
    "    return clean_data\n",
    "\n",
    "    # check the head of the output\n",
    "    #clean_data.head()\n",
    "\n",
    "tryi = datafunction(stock)\n",
    "print(tryi)"
   ]
  },
  {
   "cell_type": "code",
   "execution_count": null,
   "metadata": {},
   "outputs": [],
   "source": []
  }
 ],
 "metadata": {
  "kernelspec": {
   "display_name": "Python 3",
   "language": "python",
   "name": "python3"
  },
  "language_info": {
   "codemirror_mode": {
    "name": "ipython",
    "version": 3
   },
   "file_extension": ".py",
   "mimetype": "text/x-python",
   "name": "python",
   "nbconvert_exporter": "python",
   "pygments_lexer": "ipython3",
   "version": "3.6.4"
  }
 },
 "nbformat": 4,
 "nbformat_minor": 2
}
